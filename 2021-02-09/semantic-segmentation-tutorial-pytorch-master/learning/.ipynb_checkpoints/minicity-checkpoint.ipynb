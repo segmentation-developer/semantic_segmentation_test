{
 "cells": [
  {
   "cell_type": "code",
   "execution_count": 6,
   "metadata": {},
   "outputs": [
    {
     "name": "stdout",
     "output_type": "stream",
     "text": [
      "Note: you may need to restart the kernel to use updated packages.\n"
     ]
    },
    {
     "name": "stderr",
     "output_type": "stream",
     "text": [
      "ERROR: Could not open requirements file: [Errno 2] No such file or directory: 'requirements'\n"
     ]
    }
   ],
   "source": [
    "pip install -r requirements"
   ]
  },
  {
   "cell_type": "code",
   "execution_count": 1,
   "metadata": {},
   "outputs": [],
   "source": [
    "# -*- coding: utf-8 -*-\n",
    "from PIL import Image\n",
    "import numpy as np\n",
    "import os\n",
    "from collections import namedtuple\n",
    "from torchvision.datasets import Cityscapes\n",
    "\n",
    "class MiniCity(Cityscapes):\n",
    "    \n",
    "    voidClass = 19\n",
    "    \n",
    "    # Convert ids to train_ids\n",
    "    id2trainid = np.array([label.train_id for label in Cityscapes.classes if label.train_id >= 0], dtype='uint8')\n",
    "    id2trainid[np.where(id2trainid==255)] = voidClass\n",
    "    \n",
    "    # Convert train_ids to colors\n",
    "    mask_colors = [list(label.color) for label in Cityscapes.classes if label.train_id >= 0 and label.train_id <= 19]\n",
    "    mask_colors.append([0,0,0])\n",
    "    mask_colors = np.array(mask_colors)\n",
    "    \n",
    "    # Convert train_ids to ids\n",
    "    trainid2id = np.zeros((256), dtype='uint8')\n",
    "    for label in Cityscapes.classes:\n",
    "        if label.train_id >= 0 and label.train_id < 255:\n",
    "            trainid2id[label.train_id] = label.id\n",
    "    \n",
    "    # List of valid class ids\n",
    "    validClasses = np.unique([label.train_id for label in Cityscapes.classes if label.id >= 0])\n",
    "    validClasses[np.where(validClasses==255)] = voidClass\n",
    "    validClasses = list(validClasses)\n",
    "    \n",
    "    # Create list of class names\n",
    "    classLabels = [label.name for label in Cityscapes.classes if not (label.ignore_in_eval or label.id < 0)]\n",
    "    classLabels.append('void')\n",
    "    \n",
    "    def __init__(self, root, split='train', transform=None, target_transform=None, transforms=None):\n",
    "        super(Cityscapes, self).__init__(root, transforms, transform, target_transform)\n",
    "        self.images_dir = os.path.join(self.root, 'leftImg8bit', split)\n",
    "        self.targets_dir = os.path.join(self.root, 'gtFine', split)\n",
    "        self.split = split\n",
    "        self.images = []\n",
    "        self.targets = []\n",
    "\n",
    "        assert split in ['train','val','test'], 'Unknown value {} for argument split.'.format(split)\n",
    "\n",
    "        for file_name in os.listdir(self.images_dir):\n",
    "            self.images.append(os.path.join(self.images_dir, file_name))\n",
    "            if split != 'test':\n",
    "                target_name = '{}_{}'.format(file_name.split('_leftImg8bit')[0],\n",
    "                                                 'gtFine_labelIds.png')\n",
    "                self.targets.append(os.path.join(self.targets_dir, target_name))\n",
    "            \n",
    "    \n",
    "    def __getitem__(self, index):\n",
    "        \"\"\"\n",
    "        Args:\n",
    "            index (int): Index\n",
    "        Returns:\n",
    "            tuple: (image, target)\n",
    "        \"\"\"\n",
    "\n",
    "        filepath = self.images[index]\n",
    "        image = Image.open(filepath).convert('RGB')\n",
    "        \n",
    "        if self.split != 'test':\n",
    "            target = Image.open(self.targets[index])\n",
    "\n",
    "        if self.transforms is not None:\n",
    "            if self.split != 'test':\n",
    "                image, target = self.transforms(image, mask=target)\n",
    "                # Convert class ids to train_ids and then to tensor\n",
    "                target = self.id2trainid[target]\n",
    "                return image, target, filepath\n",
    "            else:\n",
    "                image = self.transforms(image)\n",
    "                return image, filepath"
   ]
  },
  {
   "cell_type": "code",
   "execution_count": null,
   "metadata": {},
   "outputs": [],
   "source": []
  }
 ],
 "metadata": {
  "kernelspec": {
   "display_name": "Python 3",
   "language": "python",
   "name": "python3"
  },
  "language_info": {
   "codemirror_mode": {
    "name": "ipython",
    "version": 3
   },
   "file_extension": ".py",
   "mimetype": "text/x-python",
   "name": "python",
   "nbconvert_exporter": "python",
   "pygments_lexer": "ipython3",
   "version": "3.7.9"
  }
 },
 "nbformat": 4,
 "nbformat_minor": 4
}
